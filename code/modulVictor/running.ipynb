{
 "cells": [
  {
   "cell_type": "code",
   "id": "caef80e7-71d0-479d-ae9e-5f5f3aafc05a",
   "metadata": {
    "ExecuteTime": {
     "end_time": "2024-06-19T07:55:02.283992Z",
     "start_time": "2024-06-19T07:54:59.330336Z"
    }
   },
   "source": [
    "from scripts.Support.path import get_path_df\n",
    "import pandas as pd\n",
    "import numpy as np\n",
    "import matplotlib.pyplot as plt\n",
    "import seaborn as sns\n",
    "\n",
    "df = pd.read_csv(get_path_df([''], 'bob.csv'))\n",
    "# zaladowanie pliku csv z danymi\n",
    "\n",
    "# pierwsze 10 wierszy \n",
    "print(df.head(10))\n",
    "\n",
    "\n",
    "# Sredni calorii, temperatura, temp, trwalosc, dystans\n",
    "avg_values = {\n",
    "           \"Avg calories\" : df['calories'].mean(),\n",
    "           \"Avg temperatura\" : df['temp'].mean(),\n",
    "           \"Avg pace\" : df['avg_pace'].mean(),\n",
    "           \"Avg duration\" : df['duration'].mean(),\n",
    "           \"Avg distance\" : df['distance'].mean()\n",
    "       }\n",
    "avg_values = {key: round(value,3) for key, value in avg_values.items()}\n",
    "print(\"Srednie znaczenia:\\\"calorii, temperatura, temp, trwalosc, dystans\\\" -\", [i for i in avg_values.values()])\n",
    "\n",
    "#mediana temperatury\n",
    "print(\"Mediana temperatury: \", df['temp'].median())\n",
    "\n",
    "#Histogram\n",
    "#print(plt.hist(df['temp']))\n",
    "\n",
    "# Srednie dystansu oraz krokow\n",
    "print(\"Srednia dystansu: \", int(df['distance'].mean()))\n",
    "print(\"Srednia krokow: \", int(df['steps'].mean()))\n",
    "\n",
    "# Min i Max dystansu i krokow\n",
    "print(\"Max dystans: \", df['distance'].max())\n",
    "print(\"Min dystans: \", df['distance'].min())\n",
    "\n",
    "print(\"Max krokow: \", df['steps'].max())\n",
    "print(\"Min krokow: \", df['steps'].min())\n",
    "\n",
    "# Mediana distance oraz steps\n",
    "print(\"Mediany dystansu oraz krokow: \", df['distance'].median(),\",\", df['steps'].median())\n",
    "\n",
    "\n",
    "# Quantyle 0.25, 0.5, 0.75\n",
    "quantiles_distance = df['distance'].quantile([0.25, 0.5, 0.75])\n",
    "quantiles_steps = df['steps'].quantile([0.25, 0.5, 0.75])\n",
    "print(\"Quantyle rzendu 1 - 3 dla dystansu:\\n\", quantiles_distance)\n",
    "print(\"Quantyle rzendu 1 - 3 dla krokow:\\n\", quantiles_steps)\n",
    "\n",
    "#Boxplot cech distance oraz steps\n",
    "x = np.array(df['distance'])\n",
    "y = np.array(df['steps'])\n",
    "\n",
    "plt.boxplot([x, y])\n",
    "plt.xticks([1, 2], ['distance', 'steps'])\n",
    "plt.title(\"distance\")\n",
    "plt.ylabel(\"Wartosci\")\n",
    "plt.show()\n",
    "\n",
    "\n",
    "# Wspolczynnik korelacji\n",
    "columns_names = ['calories','distance','duration','start_time',\n",
    "                 'end_time','steps','avg_pace','data_training','temp','pressure', 'season']\n",
    "\n",
    "df.columns = columns_names\n",
    "\n",
    "numeric_columns = df.select_dtypes(include = ['float64', 'int64'])\n",
    "\n",
    "corr_matrix = numeric_columns.corr()\n",
    "sns.heatmap(corr_matrix, annot=True, cmap='coolwarm')\n",
    "plt.title('Korelacja między cechami begaczow')\n",
    "plt.show()\n",
    "\n",
    "\n",
    "df['data_training'] = pd.to_datetime(df['data_training'])\n",
    "\n",
    "#funkcja dla nowej kolumny seasons\n",
    "def get_season(date):\n",
    "    if date.month in [12, 1, 2]:\n",
    "        return 'Winter'\n",
    "    elif date.month in [3, 4, 5]:\n",
    "        return 'Spring'\n",
    "    elif date.month in [6, 7, 8]:\n",
    "        return 'Summer'\n",
    "    else:\n",
    "        return 'Autumn'\n",
    "\n",
    "df['season'] = df['data_training'].apply(get_season)\n",
    "print(df['season'])\n",
    "\n",
    "season_counts = df['season'].value_counts()\n",
    "\n",
    "\n",
    "plt.figure(figsize=(12, 7))\n",
    "season_counts.plot(kind='bar', color='skyblue')\n",
    "plt.xlabel('Season')\n",
    "plt.ylabel('Counting of training')\n",
    "plt.title('Counting of training per season')\n",
    "plt.xticks(rotation=0)\n",
    "plt.show()\n",
    "\n",
    "\n"
   ],
   "outputs": [
    {
     "name": "stdout",
     "output_type": "stream",
     "text": [
      "   calories  distance  duration start_time  end_time  steps  avg_pace  \\\n",
      "0       524      7076      2411   09:05:08  09:45:20   5682      0.34   \n",
      "1       566      7113      2432   18:21:54  19:02:27   5829      0.34   \n",
      "2       510      7001      3648   16:10:51  16:52:05   5476      0.52   \n",
      "3       286      4033      1299   08:48:44  09:11:26   3224      0.32   \n",
      "4       500      6915      2294   17:27:49  18:06:35   5809      0.33   \n",
      "5       526      7159      2339   08:39:34  09:18:34   5937      0.33   \n",
      "6       496      6504      2172   18:03:26  18:44:30   5482      0.33   \n",
      "7       521      7139      2321   08:34:02  09:13:08   5980      0.33   \n",
      "8       533      7148      2375   08:15:14  08:54:52   5991      0.33   \n",
      "9       560      7097      2252   08:06:56  08:44:36   5636      0.32   \n",
      "\n",
      "  data_training   temp  pressure  \n",
      "0    2023-04-16   8.50   1016.70  \n",
      "1    2023-04-16  13.24   1018.35  \n",
      "2    2023-04-17  13.90   1022.20  \n",
      "3    2023-04-19   7.24   1017.20  \n",
      "4    2023-04-19  12.18   1017.34  \n",
      "5    2023-04-20  11.93   1020.10  \n",
      "6    2023-04-20  18.20   1019.10  \n",
      "7    2023-04-21  11.82   1020.17  \n",
      "8    2023-04-22  11.80   1016.10  \n",
      "9    2023-04-23  12.70   1013.10  \n",
      "Srednie znaczenia:\"calorii, temperatura, temp, trwalosc, dystans\" - [642.919, 15.704, 0.308, 2701.319, 8893.562]\n",
      "Mediana temperatury:  16.55\n",
      "Srednia dystansu:  8893\n",
      "Srednia krokow:  6940\n",
      "Max dystans:  10935\n",
      "Min dystans:  3255\n",
      "Max krokow:  9183\n",
      "Min krokow:  2246\n",
      "Mediany dystansu oraz krokow:  10014.0 , 7355.5\n",
      "Quantyle rzendu 1 - 3 dla dystansu:\n",
      " 0.25     7189.75\n",
      "0.50    10014.00\n",
      "0.75    10024.25\n",
      "Name: distance, dtype: float64\n",
      "Quantyle rzendu 1 - 3 dla krokow:\n",
      " 0.25    6146.00\n",
      "0.50    7355.50\n",
      "0.75    7743.75\n",
      "Name: steps, dtype: float64\n"
     ]
    },
    {
     "data": {
      "text/plain": [
       "<Figure size 640x480 with 1 Axes>"
      ],
      "image/png": "[encoded data removed]"
     },
     "metadata": {},
     "output_type": "display_data"
    },
    {
     "ename": "ValueError",
     "evalue": "Length mismatch: Expected axis has 10 elements, new values have 11 elements",
     "output_type": "error",
     "traceback": [
      "\u001B[1;31m---------------------------------------------------------------------------\u001B[0m",
      "\u001B[1;31mValueError\u001B[0m                                Traceback (most recent call last)",
      "Cell \u001B[1;32mIn[1], line 67\u001B[0m\n\u001B[0;32m     63\u001B[0m \u001B[38;5;66;03m# Wspolczynnik korelacji\u001B[39;00m\n\u001B[0;32m     64\u001B[0m columns_names \u001B[38;5;241m=\u001B[39m [\u001B[38;5;124m'\u001B[39m\u001B[38;5;124mcalories\u001B[39m\u001B[38;5;124m'\u001B[39m,\u001B[38;5;124m'\u001B[39m\u001B[38;5;124mdistance\u001B[39m\u001B[38;5;124m'\u001B[39m,\u001B[38;5;124m'\u001B[39m\u001B[38;5;124mduration\u001B[39m\u001B[38;5;124m'\u001B[39m,\u001B[38;5;124m'\u001B[39m\u001B[38;5;124mstart_time\u001B[39m\u001B[38;5;124m'\u001B[39m,\n\u001B[0;32m     65\u001B[0m                  \u001B[38;5;124m'\u001B[39m\u001B[38;5;124mend_time\u001B[39m\u001B[38;5;124m'\u001B[39m,\u001B[38;5;124m'\u001B[39m\u001B[38;5;124msteps\u001B[39m\u001B[38;5;124m'\u001B[39m,\u001B[38;5;124m'\u001B[39m\u001B[38;5;124mavg_pace\u001B[39m\u001B[38;5;124m'\u001B[39m,\u001B[38;5;124m'\u001B[39m\u001B[38;5;124mdata_training\u001B[39m\u001B[38;5;124m'\u001B[39m,\u001B[38;5;124m'\u001B[39m\u001B[38;5;124mtemp\u001B[39m\u001B[38;5;124m'\u001B[39m,\u001B[38;5;124m'\u001B[39m\u001B[38;5;124mpressure\u001B[39m\u001B[38;5;124m'\u001B[39m, \u001B[38;5;124m'\u001B[39m\u001B[38;5;124mseason\u001B[39m\u001B[38;5;124m'\u001B[39m]\n\u001B[1;32m---> 67\u001B[0m \u001B[43mdf\u001B[49m\u001B[38;5;241;43m.\u001B[39;49m\u001B[43mcolumns\u001B[49m \u001B[38;5;241m=\u001B[39m columns_names\n\u001B[0;32m     69\u001B[0m numeric_columns \u001B[38;5;241m=\u001B[39m df\u001B[38;5;241m.\u001B[39mselect_dtypes(include \u001B[38;5;241m=\u001B[39m [\u001B[38;5;124m'\u001B[39m\u001B[38;5;124mfloat64\u001B[39m\u001B[38;5;124m'\u001B[39m, \u001B[38;5;124m'\u001B[39m\u001B[38;5;124mint64\u001B[39m\u001B[38;5;124m'\u001B[39m])\n\u001B[0;32m     71\u001B[0m corr_matrix \u001B[38;5;241m=\u001B[39m numeric_columns\u001B[38;5;241m.\u001B[39mcorr()\n",
      "File \u001B[1;32mD:\\PythonProjectRunningPace\\code\\.venv\\Lib\\site-packages\\pandas\\core\\generic.py:6313\u001B[0m, in \u001B[0;36mNDFrame.__setattr__\u001B[1;34m(self, name, value)\u001B[0m\n\u001B[0;32m   6311\u001B[0m \u001B[38;5;28;01mtry\u001B[39;00m:\n\u001B[0;32m   6312\u001B[0m     \u001B[38;5;28mobject\u001B[39m\u001B[38;5;241m.\u001B[39m\u001B[38;5;21m__getattribute__\u001B[39m(\u001B[38;5;28mself\u001B[39m, name)\n\u001B[1;32m-> 6313\u001B[0m     \u001B[38;5;28;01mreturn\u001B[39;00m \u001B[38;5;28;43mobject\u001B[39;49m\u001B[38;5;241;43m.\u001B[39;49m\u001B[38;5;21;43m__setattr__\u001B[39;49m\u001B[43m(\u001B[49m\u001B[38;5;28;43mself\u001B[39;49m\u001B[43m,\u001B[49m\u001B[43m \u001B[49m\u001B[43mname\u001B[49m\u001B[43m,\u001B[49m\u001B[43m \u001B[49m\u001B[43mvalue\u001B[49m\u001B[43m)\u001B[49m\n\u001B[0;32m   6314\u001B[0m \u001B[38;5;28;01mexcept\u001B[39;00m \u001B[38;5;167;01mAttributeError\u001B[39;00m:\n\u001B[0;32m   6315\u001B[0m     \u001B[38;5;28;01mpass\u001B[39;00m\n",
      "File \u001B[1;32mproperties.pyx:69\u001B[0m, in \u001B[0;36mpandas._libs.properties.AxisProperty.__set__\u001B[1;34m()\u001B[0m\n",
      "File \u001B[1;32mD:\\PythonProjectRunningPace\\code\\.venv\\Lib\\site-packages\\pandas\\core\\generic.py:814\u001B[0m, in \u001B[0;36mNDFrame._set_axis\u001B[1;34m(self, axis, labels)\u001B[0m\n\u001B[0;32m    809\u001B[0m \u001B[38;5;250m\u001B[39m\u001B[38;5;124;03m\"\"\"\u001B[39;00m\n\u001B[0;32m    810\u001B[0m \u001B[38;5;124;03mThis is called from the cython code when we set the `index` attribute\u001B[39;00m\n\u001B[0;32m    811\u001B[0m \u001B[38;5;124;03mdirectly, e.g. `series.index = [1, 2, 3]`.\u001B[39;00m\n\u001B[0;32m    812\u001B[0m \u001B[38;5;124;03m\"\"\"\u001B[39;00m\n\u001B[0;32m    813\u001B[0m labels \u001B[38;5;241m=\u001B[39m ensure_index(labels)\n\u001B[1;32m--> 814\u001B[0m \u001B[38;5;28;43mself\u001B[39;49m\u001B[38;5;241;43m.\u001B[39;49m\u001B[43m_mgr\u001B[49m\u001B[38;5;241;43m.\u001B[39;49m\u001B[43mset_axis\u001B[49m\u001B[43m(\u001B[49m\u001B[43maxis\u001B[49m\u001B[43m,\u001B[49m\u001B[43m \u001B[49m\u001B[43mlabels\u001B[49m\u001B[43m)\u001B[49m\n\u001B[0;32m    815\u001B[0m \u001B[38;5;28mself\u001B[39m\u001B[38;5;241m.\u001B[39m_clear_item_cache()\n",
      "File \u001B[1;32mD:\\PythonProjectRunningPace\\code\\.venv\\Lib\\site-packages\\pandas\\core\\internals\\managers.py:238\u001B[0m, in \u001B[0;36mBaseBlockManager.set_axis\u001B[1;34m(self, axis, new_labels)\u001B[0m\n\u001B[0;32m    236\u001B[0m \u001B[38;5;28;01mdef\u001B[39;00m \u001B[38;5;21mset_axis\u001B[39m(\u001B[38;5;28mself\u001B[39m, axis: AxisInt, new_labels: Index) \u001B[38;5;241m-\u001B[39m\u001B[38;5;241m>\u001B[39m \u001B[38;5;28;01mNone\u001B[39;00m:\n\u001B[0;32m    237\u001B[0m     \u001B[38;5;66;03m# Caller is responsible for ensuring we have an Index object.\u001B[39;00m\n\u001B[1;32m--> 238\u001B[0m     \u001B[38;5;28;43mself\u001B[39;49m\u001B[38;5;241;43m.\u001B[39;49m\u001B[43m_validate_set_axis\u001B[49m\u001B[43m(\u001B[49m\u001B[43maxis\u001B[49m\u001B[43m,\u001B[49m\u001B[43m \u001B[49m\u001B[43mnew_labels\u001B[49m\u001B[43m)\u001B[49m\n\u001B[0;32m    239\u001B[0m     \u001B[38;5;28mself\u001B[39m\u001B[38;5;241m.\u001B[39maxes[axis] \u001B[38;5;241m=\u001B[39m new_labels\n",
      "File \u001B[1;32mD:\\PythonProjectRunningPace\\code\\.venv\\Lib\\site-packages\\pandas\\core\\internals\\base.py:98\u001B[0m, in \u001B[0;36mDataManager._validate_set_axis\u001B[1;34m(self, axis, new_labels)\u001B[0m\n\u001B[0;32m     95\u001B[0m     \u001B[38;5;28;01mpass\u001B[39;00m\n\u001B[0;32m     97\u001B[0m \u001B[38;5;28;01melif\u001B[39;00m new_len \u001B[38;5;241m!=\u001B[39m old_len:\n\u001B[1;32m---> 98\u001B[0m     \u001B[38;5;28;01mraise\u001B[39;00m \u001B[38;5;167;01mValueError\u001B[39;00m(\n\u001B[0;32m     99\u001B[0m         \u001B[38;5;124mf\u001B[39m\u001B[38;5;124m\"\u001B[39m\u001B[38;5;124mLength mismatch: Expected axis has \u001B[39m\u001B[38;5;132;01m{\u001B[39;00mold_len\u001B[38;5;132;01m}\u001B[39;00m\u001B[38;5;124m elements, new \u001B[39m\u001B[38;5;124m\"\u001B[39m\n\u001B[0;32m    100\u001B[0m         \u001B[38;5;124mf\u001B[39m\u001B[38;5;124m\"\u001B[39m\u001B[38;5;124mvalues have \u001B[39m\u001B[38;5;132;01m{\u001B[39;00mnew_len\u001B[38;5;132;01m}\u001B[39;00m\u001B[38;5;124m elements\u001B[39m\u001B[38;5;124m\"\u001B[39m\n\u001B[0;32m    101\u001B[0m     )\n",
      "\u001B[1;31mValueError\u001B[0m: Length mismatch: Expected axis has 10 elements, new values have 11 elements"
     ]
    }
   ],
   "execution_count": 1
  },
  {
   "cell_type": "code",
   "id": "cf740e47-741b-4e5a-bdc4-ee29aa300896",
   "metadata": {
    "ExecuteTime": {
     "end_time": "2024-06-18T19:13:00.202005Z",
     "start_time": "2024-06-18T19:13:00.196511Z"
    }
   },
   "source": "",
   "outputs": [
    {
     "name": "stdout",
     "output_type": "stream",
     "text": [
      "0.308\n"
     ]
    }
   ],
   "execution_count": 6
  }
 ],
 "metadata": {
  "kernelspec": {
   "display_name": "Python 3 (ipykernel)",
   "language": "python",
   "name": "python3"
  },
  "language_info": {
   "codemirror_mode": {
    "name": "ipython",
    "version": 3
   },
   "file_extension": ".py",
   "mimetype": "text/x-python",
   "name": "python",
   "nbconvert_exporter": "python",
   "pygments_lexer": "ipython3",
   "version": "3.12.0"
  }
 },
 "nbformat": 4,
 "nbformat_minor": 5
}
