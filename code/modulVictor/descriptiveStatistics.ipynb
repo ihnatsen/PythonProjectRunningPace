{
 "cells": [
  {
   "cell_type": "code",
   "id": "caef80e7-71d0-479d-ae9e-5f5f3aafc05a",
   "metadata": {
    "jupyter": {
     "is_executing": true
    }
   },
   "source": [
    "import pandas as pd\n",
    "import numpy as np\n",
    "import matplotlib.pyplot as plt\n",
    "import seaborn as sns\n",
    "\n",
    "# zaladowanie pliku csv z danymi\n",
    "df = pd.read_csv(\"E:/ML project/bob.csv\")\n",
    "\n",
    "# pierwsze 10 wierszy \n",
    "print(df.head(10))\n",
    "\n",
    "\n",
    "# Sredni calorii, temperatura, temp, trwalosc, dystans\n",
    "avg_values = {\n",
    "           \"Avg calories\" : df['calories'].mean(),\n",
    "           \"Avg temperatura\" : df['temp'].mean(),\n",
    "           \"Avg pace\" : df['avg_pace'].mean(),\n",
    "           \"Avg duration\" : df['duration'].mean(),\n",
    "           \"Avg distance\" : df['distance'].mean()\n",
    "       }\n",
    "avg_values = {key: int(value) for key, value in avg_values.items()}\n",
    "print(\"Srednie znaczenia w calkowitych liczbach: \\\"calorii, temperatura, temp, trwalosc, dystans\\\" -\", [i for i in avg_values.values()])\n",
    "\n",
    "#mediana temperatury\n",
    "print(\"Mediana temperatury: \", df['temp'].median())\n",
    "\n",
    "#Histogram\n",
    "#print(plt.hist(df['temp']))\n",
    "\n",
    "# Srednie dystansu oraz krokow\n",
    "print(\"Srednia dystansu: \", int(df['distance'].mean()))\n",
    "print(\"Srednia krokow: \", int(df['steps'].mean()))\n",
    "\n",
    "# Min i Max dystansu i krokow\n",
    "print(\"Max dystans: \", df['distance'].max())\n",
    "print(\"Min dystans: \", df['distance'].min())\n",
    "\n",
    "print(\"Max krokow: \", df['steps'].max())\n",
    "print(\"Min krokow: \", df['steps'].min())\n",
    "\n",
    "# Mediana distance oraz steps\n",
    "print(\"Mediany dystansu oraz krokow: \", df['distance'].median(),\",\", df['steps'].median())\n",
    "\n",
    "\n",
    "# Quantyle 0.25, 0.5, 0.75\n",
    "quantiles_distance = df['distance'].quantile([0.25, 0.5, 0.75])\n",
    "quantiles_steps = df['steps'].quantile([0.25, 0.5, 0.75])\n",
    "print(\"Quantyle rzendu 1 - 3 dla dystansu:\\n\", quantiles_distance)\n",
    "print(\"Quantyle rzendu 1 - 3 dla krokow:\\n\", quantiles_steps)\n",
    "\n",
    "# Boxplot cech distance oraz steps\n",
    "x = np.array(df['distance'])\n",
    "y = np.array(df['steps'])\n",
    "\n",
    "plt.boxplot([x, y])\n",
    "plt.xticks([1, 2], ['distance', 'steps'])\n",
    "plt.title(\"distance\")\n",
    "plt.ylabel(\"Wartosci\")\n",
    "plt.show()\n",
    "\n",
    "\n",
    "# Wspolczynnik korelacji\n",
    "columns_names = ['calories','distance','duration','start_time',\n",
    "                 'end_time','steps','avg_pace','data_training','temp','pressure']\n",
    "\n",
    "df.columns = columns_names\n",
    "\n",
    "numeric_columns = df.select_dtypes(include = ['float64', 'int64'])\n",
    "\n",
    "corr_matrix = numeric_columns.corr()\n",
    "sns.heatmap(corr_matrix, annot=True, cmap='coolwarm')\n",
    "plt.title('Korelacja między cechami begaczow')\n",
    "plt.show()"
   ],
   "outputs": [],
   "execution_count": null
  },
  {
   "cell_type": "code",
   "execution_count": null,
   "id": "cf740e47-741b-4e5a-bdc4-ee29aa300896",
   "metadata": {},
   "outputs": [],
   "source": []
  }
 ],
 "metadata": {
  "kernelspec": {
   "display_name": "Python 3 (ipykernel)",
   "language": "python",
   "name": "python3"
  },
  "language_info": {
   "codemirror_mode": {
    "name": "ipython",
    "version": 3
   },
   "file_extension": ".py",
   "mimetype": "text/x-python",
   "name": "python",
   "nbconvert_exporter": "python",
   "pygments_lexer": "ipython3",
   "version": "3.12.0"
  }
 },
 "nbformat": 4,
 "nbformat_minor": 5
}
